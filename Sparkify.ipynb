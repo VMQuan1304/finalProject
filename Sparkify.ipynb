{
 "cells": [
  {
   "cell_type": "markdown",
   "metadata": {},
   "source": [
    "# Sparkify Project Workspace\n",
    "This workspace contains a tiny subset (128MB) of the full dataset available (12GB). Feel free to use this workspace to build your project, or to explore a smaller subset with Spark before deploying your cluster on the cloud. Instructions for setting up your Spark cluster is included in the last lesson of the Extracurricular Spark Course content.\n",
    "\n",
    "You can follow the steps below to guide your data analysis and model building portion of this project."
   ]
  },
  {
   "cell_type": "code",
   "execution_count": 63,
   "metadata": {},
   "outputs": [
    {
     "data": {
      "text/html": [],
      "text/plain": [
       "<IPython.core.display.HTML object>"
      ]
     },
     "metadata": {},
     "output_type": "display_data"
    }
   ],
   "source": [
    "# import libraries\n",
    "import time\n",
    "import numpy as np\n",
    "import datetime\n",
    "import seaborn as sns\n",
    "from pyspark.sql import Window\n",
    "from pyspark.ml import Pipeline\n",
    "import matplotlib.pyplot as plt\n",
    "from pyspark.sql import SparkSession\n",
    "from pyspark.sql import functions as F\n",
    "from pyspark.sql.types import IntegerType, DateType\n",
    "from pyspark.ml.tuning import CrossValidator, ParamGridBuilder\n",
    "from pyspark.ml.evaluation import MulticlassClassificationEvaluator\n",
    "from pyspark.ml.feature import VectorAssembler, StandardScaler, MinMaxScaler\n",
    "from pyspark.ml.classification import LogisticRegression, RandomForestClassifier, GBTClassifier\n",
    "from IPython.core.display import HTML\n",
    "display(HTML(\"\"))"
   ]
  },
  {
   "cell_type": "code",
   "execution_count": 64,
   "metadata": {},
   "outputs": [],
   "source": [
    "# create a Spark session\n",
    "spark = SparkSession.builder \\\n",
    "    .master(\"local\") \\\n",
    "    .appName(\"Sparkify\") \\\n",
    "    .getOrCreate()"
   ]
  },
  {
   "cell_type": "markdown",
   "metadata": {},
   "source": [
    "# Load and Clean Dataset\n",
    "In this workspace, the mini-dataset file is `mini_sparkify_event_data.json`. Load and clean the dataset, checking for invalid or missing data - for example, records without userids or sessionids. "
   ]
  },
  {
   "cell_type": "code",
   "execution_count": 65,
   "metadata": {},
   "outputs": [
    {
     "data": {
      "text/plain": [
       "Row(artist='Martha Tilston', auth='Logged In', firstName='Colin', gender='M', itemInSession=50, lastName='Freeman', length=277.89016, level='paid', location='Bakersfield, CA', method='PUT', page='NextSong', registration=1538173362000, sessionId=29, song='Rockpools', status=200, ts=1538352117000, userAgent='Mozilla/5.0 (Windows NT 6.1; WOW64; rv:31.0) Gecko/20100101 Firefox/31.0', userId='30')"
      ]
     },
     "execution_count": 65,
     "metadata": {},
     "output_type": "execute_result"
    }
   ],
   "source": [
    "df = spark.read.json('mini_sparkify_event_data.json')\n",
    "df.head()"
   ]
  },
  {
   "cell_type": "code",
   "execution_count": 66,
   "metadata": {},
   "outputs": [
    {
     "name": "stdout",
     "output_type": "stream",
     "text": [
      "root\n",
      " |-- artist: string (nullable = true)\n",
      " |-- auth: string (nullable = true)\n",
      " |-- firstName: string (nullable = true)\n",
      " |-- gender: string (nullable = true)\n",
      " |-- itemInSession: long (nullable = true)\n",
      " |-- lastName: string (nullable = true)\n",
      " |-- length: double (nullable = true)\n",
      " |-- level: string (nullable = true)\n",
      " |-- location: string (nullable = true)\n",
      " |-- method: string (nullable = true)\n",
      " |-- page: string (nullable = true)\n",
      " |-- registration: long (nullable = true)\n",
      " |-- sessionId: long (nullable = true)\n",
      " |-- song: string (nullable = true)\n",
      " |-- status: long (nullable = true)\n",
      " |-- ts: long (nullable = true)\n",
      " |-- userAgent: string (nullable = true)\n",
      " |-- userId: string (nullable = true)\n",
      "\n"
     ]
    }
   ],
   "source": [
    "df.printSchema()"
   ]
  },
  {
   "cell_type": "code",
   "execution_count": 67,
   "metadata": {},
   "outputs": [
    {
     "data": {
      "text/plain": [
       "DataFrame[summary: string, artist: string, auth: string, firstName: string, gender: string, itemInSession: string, lastName: string, length: string, level: string, location: string, method: string, page: string, registration: string, sessionId: string, song: string, status: string, ts: string, userAgent: string, userId: string]"
      ]
     },
     "execution_count": 67,
     "metadata": {},
     "output_type": "execute_result"
    }
   ],
   "source": [
    "df.describe()"
   ]
  },
  {
   "cell_type": "code",
   "execution_count": 68,
   "metadata": {},
   "outputs": [
    {
     "data": {
      "text/plain": [
       "286500"
      ]
     },
     "execution_count": 68,
     "metadata": {},
     "output_type": "execute_result"
    }
   ],
   "source": [
    "df.count()"
   ]
  },
  {
   "cell_type": "code",
   "execution_count": 69,
   "metadata": {},
   "outputs": [
    {
     "name": "stdout",
     "output_type": "stream",
     "text": [
      "+-------+-----------------+\n",
      "|summary|           userId|\n",
      "+-------+-----------------+\n",
      "|  count|           286500|\n",
      "|   mean|59682.02278593872|\n",
      "| stddev|109091.9499991047|\n",
      "|    min|                 |\n",
      "|    max|               99|\n",
      "+-------+-----------------+\n",
      "\n"
     ]
    }
   ],
   "source": [
    "df.describe('userId').show()"
   ]
  },
  {
   "cell_type": "code",
   "execution_count": 70,
   "metadata": {},
   "outputs": [
    {
     "name": "stdout",
     "output_type": "stream",
     "text": [
      "+-------+-----------------+\n",
      "|summary|        sessionId|\n",
      "+-------+-----------------+\n",
      "|  count|           286500|\n",
      "|   mean|1041.526554973822|\n",
      "| stddev|726.7762634630741|\n",
      "|    min|                1|\n",
      "|    max|             2474|\n",
      "+-------+-----------------+\n",
      "\n"
     ]
    }
   ],
   "source": [
    "df.describe('sessionId').show()"
   ]
  },
  {
   "cell_type": "code",
   "execution_count": 71,
   "metadata": {},
   "outputs": [
    {
     "name": "stdout",
     "output_type": "stream",
     "text": [
      "+------+----+---------+------+-------------+--------+------+-----+--------+------+----+------------+---------+-----+------+---+---------+------+\n",
      "|artist|auth|firstName|gender|itemInSession|lastName|length|level|location|method|page|registration|sessionId| song|status| ts|userAgent|userId|\n",
      "+------+----+---------+------+-------------+--------+------+-----+--------+------+----+------------+---------+-----+------+---+---------+------+\n",
      "| 58392|   0|     8346|  8346|            0|    8346| 58392|    0|    8346|     0|   0|        8346|        0|58392|     0|  0|     8346|     0|\n",
      "+------+----+---------+------+-------------+--------+------+-----+--------+------+----+------------+---------+-----+------+---+---------+------+\n",
      "\n"
     ]
    }
   ],
   "source": [
    "df.select([F.count(F.when(F.col(c).isNull(), c)).alias(c) for c in df.columns]).show()"
   ]
  },
  {
   "cell_type": "code",
   "execution_count": 72,
   "metadata": {},
   "outputs": [
    {
     "name": "stdout",
     "output_type": "stream",
     "text": [
      "+------+----+---------+------+-------------+--------+------+-----+--------+------+----+------------+---------+----+------+---+---------+------+\n",
      "|artist|auth|firstName|gender|itemInSession|lastName|length|level|location|method|page|registration|sessionId|song|status| ts|userAgent|userId|\n",
      "+------+----+---------+------+-------------+--------+------+-----+--------+------+----+------------+---------+----+------+---+---------+------+\n",
      "|     0|   0|        0|     0|            0|       0|     0|    0|       0|     0|   0|           0|        0|   0|     0|  0|        0|  8346|\n",
      "+------+----+---------+------+-------------+--------+------+-----+--------+------+----+------------+---------+----+------+---+---------+------+\n",
      "\n"
     ]
    }
   ],
   "source": [
    "df.select([F.count(F.when(F.col(c) == \"\", c)).alias(c) for c in df.columns]).show()"
   ]
  },
  {
   "cell_type": "code",
   "execution_count": 73,
   "metadata": {},
   "outputs": [],
   "source": [
    "# filter empty string \n",
    "df_userId = df.filter(F.col(\"userId\") == \"\")"
   ]
  },
  {
   "cell_type": "code",
   "execution_count": null,
   "metadata": {},
   "outputs": [],
   "source": []
  },
  {
   "cell_type": "markdown",
   "metadata": {},
   "source": [
    "# Exploratory Data Analysis\n",
    "When you're working with the full dataset, perform EDA by loading a small subset of the data and doing basic manipulations within Spark. In this workspace, you are already provided a small subset of data you can explore.\n",
    "\n",
    "### Define Churn\n",
    "\n",
    "Once you've done some preliminary analysis, create a column `Churn` to use as the label for your model. I suggest using the `Cancellation Confirmation` events to define your churn, which happen for both paid and free users. As a bonus task, you can also look into the `Downgrade` events.\n",
    "\n",
    "### Explore Data\n",
    "Once you've defined churn, perform some exploratory data analysis to observe the behavior for users who stayed vs users who churned. You can start by exploring aggregates on these two groups of users, observing how much of a specific action they experienced per a certain time unit or number of songs played."
   ]
  },
  {
   "cell_type": "code",
   "execution_count": 74,
   "metadata": {},
   "outputs": [
    {
     "data": {
      "text/plain": [
       "[Row(page='Cancel'),\n",
       " Row(page='Submit Downgrade'),\n",
       " Row(page='Thumbs Down'),\n",
       " Row(page='Home'),\n",
       " Row(page='Downgrade'),\n",
       " Row(page='Roll Advert'),\n",
       " Row(page='Logout'),\n",
       " Row(page='Save Settings'),\n",
       " Row(page='Cancellation Confirmation'),\n",
       " Row(page='About'),\n",
       " Row(page='Submit Registration'),\n",
       " Row(page='Settings'),\n",
       " Row(page='Login'),\n",
       " Row(page='Register'),\n",
       " Row(page='Add to Playlist'),\n",
       " Row(page='Add Friend'),\n",
       " Row(page='NextSong'),\n",
       " Row(page='Thumbs Up'),\n",
       " Row(page='Help'),\n",
       " Row(page='Upgrade'),\n",
       " Row(page='Error'),\n",
       " Row(page='Submit Upgrade')]"
      ]
     },
     "execution_count": 74,
     "metadata": {},
     "output_type": "execute_result"
    }
   ],
   "source": [
    "df.select('page').distinct().collect()"
   ]
  },
  {
   "cell_type": "code",
   "execution_count": 75,
   "metadata": {},
   "outputs": [],
   "source": [
    "df = df.withColumn(\n",
    "            \"Churn\",\n",
    "            F.when(F.col(\"page\") == \"Cancellation Confirmation\", 1).otherwise(0))"
   ]
  },
  {
   "cell_type": "code",
   "execution_count": 76,
   "metadata": {},
   "outputs": [
    {
     "data": {
      "text/plain": [
       "[Row(artist='Martha Tilston', auth='Logged In', firstName='Colin', gender='M', itemInSession=50, lastName='Freeman', length=277.89016, level='paid', location='Bakersfield, CA', method='PUT', page='NextSong', registration=1538173362000, sessionId=29, song='Rockpools', status=200, ts=1538352117000, userAgent='Mozilla/5.0 (Windows NT 6.1; WOW64; rv:31.0) Gecko/20100101 Firefox/31.0', userId='30', Churn=0),\n",
       " Row(artist='Five Iron Frenzy', auth='Logged In', firstName='Micah', gender='M', itemInSession=79, lastName='Long', length=236.09424, level='free', location='Boston-Cambridge-Newton, MA-NH', method='PUT', page='NextSong', registration=1538331630000, sessionId=8, song='Canada', status=200, ts=1538352180000, userAgent='\"Mozilla/5.0 (Windows NT 6.1; WOW64) AppleWebKit/537.36 (KHTML, like Gecko) Chrome/37.0.2062.103 Safari/537.36\"', userId='9', Churn=0),\n",
       " Row(artist='Adam Lambert', auth='Logged In', firstName='Colin', gender='M', itemInSession=51, lastName='Freeman', length=282.8273, level='paid', location='Bakersfield, CA', method='PUT', page='NextSong', registration=1538173362000, sessionId=29, song='Time For Miracles', status=200, ts=1538352394000, userAgent='Mozilla/5.0 (Windows NT 6.1; WOW64; rv:31.0) Gecko/20100101 Firefox/31.0', userId='30', Churn=0),\n",
       " Row(artist='Enigma', auth='Logged In', firstName='Micah', gender='M', itemInSession=80, lastName='Long', length=262.71302, level='free', location='Boston-Cambridge-Newton, MA-NH', method='PUT', page='NextSong', registration=1538331630000, sessionId=8, song='Knocking On Forbidden Doors', status=200, ts=1538352416000, userAgent='\"Mozilla/5.0 (Windows NT 6.1; WOW64) AppleWebKit/537.36 (KHTML, like Gecko) Chrome/37.0.2062.103 Safari/537.36\"', userId='9', Churn=0),\n",
       " Row(artist='Daft Punk', auth='Logged In', firstName='Colin', gender='M', itemInSession=52, lastName='Freeman', length=223.60771, level='paid', location='Bakersfield, CA', method='PUT', page='NextSong', registration=1538173362000, sessionId=29, song='Harder Better Faster Stronger', status=200, ts=1538352676000, userAgent='Mozilla/5.0 (Windows NT 6.1; WOW64; rv:31.0) Gecko/20100101 Firefox/31.0', userId='30', Churn=0)]"
      ]
     },
     "execution_count": 76,
     "metadata": {},
     "output_type": "execute_result"
    }
   ],
   "source": [
    "df.head(5)"
   ]
  },
  {
   "cell_type": "code",
   "execution_count": 77,
   "metadata": {},
   "outputs": [
    {
     "name": "stdout",
     "output_type": "stream",
     "text": [
      "+-----+------+\n",
      "|Churn| count|\n",
      "+-----+------+\n",
      "|    1|    52|\n",
      "|    0|286448|\n",
      "+-----+------+\n",
      "\n"
     ]
    }
   ],
   "source": [
    "df.groupBy(\"Churn\").count().show()"
   ]
  },
  {
   "cell_type": "code",
   "execution_count": 78,
   "metadata": {},
   "outputs": [],
   "source": [
    "df1 = df.select(\"userId\", 'level', 'Churn', 'gender').distinct()"
   ]
  },
  {
   "cell_type": "code",
   "execution_count": 79,
   "metadata": {},
   "outputs": [
    {
     "data": {
      "text/plain": [
       "Text(0.5,1,'Number of paid and free users')"
      ]
     },
     "execution_count": 79,
     "metadata": {},
     "output_type": "execute_result"
    },
    {
     "data": {
      "image/png": "[encoded data removed]",
      "text/plain": [
       "<matplotlib.figure.Figure at 0x7f31427b6e80>"
      ]
     },
     "metadata": {
      "needs_background": "light"
     },
     "output_type": "display_data"
    }
   ],
   "source": [
    "df_level = df1.select('level').toPandas()\n",
    "ax = sns.countplot(x='level', data=df_level)\n",
    "plt.title(\"Number of paid and free users\", weight='bold')"
   ]
  },
  {
   "cell_type": "code",
   "execution_count": 80,
   "metadata": {},
   "outputs": [
    {
     "data": {
      "text/plain": [
       "Text(0.5,1,'Gender distribution')"
      ]
     },
     "execution_count": 80,
     "metadata": {},
     "output_type": "execute_result"
    },
    {
     "data": {
      "image/png": "[encoded data removed]",
      "text/plain": [
       "<matplotlib.figure.Figure at 0x7f3150390898>"
      ]
     },
     "metadata": {
      "needs_background": "light"
     },
     "output_type": "display_data"
    }
   ],
   "source": [
    "df_gender = df1.select('gender').toPandas()\n",
    "ax = sns.countplot(x='gender', data=df_gender)\n",
    "plt.title(\"Gender distribution\", weight='bold')"
   ]
  },
  {
   "cell_type": "code",
   "execution_count": 81,
   "metadata": {},
   "outputs": [],
   "source": [
    "gender_df = df1.groupby(['Churn', 'gender']).count().sort('Churn').toPandas()\n",
    "gender_df.dropna()\n",
    "x = 'Churn'\n",
    "y = 'count'\n",
    "orders = [\"Active\",\"Cancelled\"]"
   ]
  },
  {
   "cell_type": "code",
   "execution_count": 82,
   "metadata": {},
   "outputs": [
    {
     "data": {
      "image/png": "[encoded data removed]",
      "text/plain": [
       "<matplotlib.figure.Figure at 0x7f314474f128>"
      ]
     },
     "metadata": {
      "needs_background": "light"
     },
     "output_type": "display_data"
    }
   ],
   "source": [
    "# reference to add name of x label:\n",
    "fig, ax = plt.subplots(figsize = (5,5), dpi = 100);\n",
    "sns.barplot(data=gender_df, x=x, y=y, hue='gender');\n",
    "plt.ylim([0,200]);\n",
    "plt.title(\"Gender Distribution by User Status\", fontweight='bold');\n",
    "plt.xlabel(\"User Status\");\n",
    "plt.ylabel(\"Amount of Users\");\n",
    "plt.xticks(np.arange(len(orders)), orders)\n",
    "plt.legend(title='Gender');"
   ]
  },
  {
   "cell_type": "code",
   "execution_count": 83,
   "metadata": {},
   "outputs": [],
   "source": [
    "level = df.select('userId', 'level', 'Churn').distinct()\n",
    "level_df = level.groupby(['Churn', 'level']).count().sort('Churn').toPandas()\n",
    "x = 'Churn'\n",
    "y = 'count'\n",
    "orders = [\"Active\",\"Cancelled\"]"
   ]
  },
  {
   "cell_type": "code",
   "execution_count": 84,
   "metadata": {},
   "outputs": [
    {
     "data": {
      "image/png": "[encoded data removed]",
      "text/plain": [
       "<matplotlib.figure.Figure at 0x7f3148002c18>"
      ]
     },
     "metadata": {
      "needs_background": "light"
     },
     "output_type": "display_data"
    }
   ],
   "source": [
    "fig, ax = plt.subplots(figsize = (5,5), dpi = 100);\n",
    "sns.barplot(data=level_df, x=x, y=y, hue='level');\n",
    "plt.ylim([0,200]);\n",
    "plt.title(\"Distribution Level by User Status\", fontweight='bold');\n",
    "plt.xlabel(\"User Status\");\n",
    "plt.ylabel(\"Amount of Users\");\n",
    "plt.xticks(np.arange(len(orders)), orders)\n",
    "plt.legend(title='Level');"
   ]
  },
  {
   "cell_type": "code",
   "execution_count": 85,
   "metadata": {},
   "outputs": [
    {
     "data": {
      "image/png": "[encoded data removed]",
      "text/plain": [
       "<matplotlib.figure.Figure at 0x7f3143e6e5c0>"
      ]
     },
     "metadata": {
      "needs_background": "light"
     },
     "output_type": "display_data"
    }
   ],
   "source": [
    "pd_artist = df.toPandas()\n",
    "pd_artist['song'].value_counts()[:10].plot(kind='barh')\n",
    "plt.title('Top 10 played song', fontweight='bold');\n",
    "plt.xlabel(\"Played counts\");\n",
    "plt.ylabel(\"Name of song\");"
   ]
  },
  {
   "cell_type": "code",
   "execution_count": 86,
   "metadata": {},
   "outputs": [
    {
     "data": {
      "text/plain": [
       "226"
      ]
     },
     "execution_count": 86,
     "metadata": {},
     "output_type": "execute_result"
    }
   ],
   "source": [
    "df.select('userId').distinct().count()"
   ]
  },
  {
   "cell_type": "code",
   "execution_count": 87,
   "metadata": {},
   "outputs": [],
   "source": [
    "window = Window.partitionBy(\"userId\").orderBy(\"ts\").rowsBetween(Window.unboundedPreceding, Window.currentRow)\n",
    "df = df.withColumn(\"count_Cancel\", F.sum(\"Churn\").over(window))"
   ]
  },
  {
   "cell_type": "code",
   "execution_count": 88,
   "metadata": {},
   "outputs": [
    {
     "name": "stdout",
     "output_type": "stream",
     "text": [
      "+------+---------+---------+------+-------------+--------+------+-----+--------------------+------+--------------------+-------------+---------+----+------+-------------+--------------------+------+-----+------------+\n",
      "|artist|     auth|firstName|gender|itemInSession|lastName|length|level|            location|method|                page| registration|sessionId|song|status|           ts|           userAgent|userId|Churn|count_Cancel|\n",
      "+------+---------+---------+------+-------------+--------+------+-----+--------------------+------+--------------------+-------------+---------+----+------+-------------+--------------------+------+-----+------------+\n",
      "|  null|Cancelled|    Mason|     M|           10|    Hart|  null| free|  Corpus Christi, TX|   GET|Cancellation Conf...|1533157139000|      174|null|   200|1539318918000|\"Mozilla/5.0 (Mac...|   125|    1|           1|\n",
      "|  null|Cancelled|    Ethan|     M|          176| Johnson|  null| paid|Lexington-Fayette...|   GET|Cancellation Conf...|1538080987000|      934|null|   200|1539761972000|\"Mozilla/5.0 (Win...|    51|    1|           1|\n",
      "|  null|Cancelled|    Alexi|     F|           42|  Warren|  null| paid|Spokane-Spokane V...|   GET|Cancellation Conf...|1532482662000|     1819|null|   200|1542051608000|Mozilla/5.0 (Wind...|    54|    1|           1|\n",
      "|  null|Cancelled|  Rodrigo|     M|           73|   Carey|  null| paid|New York-Newark-J...|   GET|Cancellation Conf...|1535389443000|      185|null|   200|1542740649000|\"Mozilla/5.0 (Win...|100014|    1|           1|\n",
      "|  null|Cancelled|     Alex|     M|          145|   Hogan|  null| paid|Denver-Aurora-Lak...|   GET|Cancellation Conf...|1535066380000|      842|null|   200|1539729037000|Mozilla/5.0 (Wind...|   101|    1|           1|\n",
      "|  null|Cancelled|   Rayden|     M|          185|Phillips|  null| free|Dallas-Fort Worth...|   GET|Cancellation Conf...|1537550344000|      172|null|   200|1543143782000|\"Mozilla/5.0 (Mac...|100021|    1|           1|\n",
      "|  null|Cancelled|    Kaleb|     M|           49|Thompson|  null| paid|Los Angeles-Long ...|   GET|Cancellation Conf...|1536988041000|     1864|null|   200|1542181031000|\"Mozilla/5.0 (Mac...|    29|    1|           1|\n",
      "|  null|Cancelled|   Rachel|     F|           11|  Bailey|  null| paid|Albany-Schenectad...|   GET|Cancellation Conf...|1536102943000|     1059|null|   200|1540402387000|Mozilla/5.0 (Wind...|    73|    1|           1|\n",
      "|  null|Cancelled|Christian|     M|          100|Robinson|  null| paid|       Quincy, IL-MO|   GET|Cancellation Conf...|1534942082000|     1092|null|   200|1540050556000|\"Mozilla/5.0 (Win...|    87|    1|           1|\n",
      "|  null|Cancelled|  Jeffery|     M|           46| Wheeler|  null| paid|         Bozeman, MT|   GET|Cancellation Conf...|1533886191000|     1324|null|   200|1540875543000|\"Mozilla/5.0 (Win...|     3|    1|           1|\n",
      "|  null|Cancelled|   Teagan|     F|          306| Roberts|  null| paid|New Philadelphia-...|   GET|Cancellation Conf...|1537634865000|     1519|null|   200|1541463632000|Mozilla/5.0 (Wind...|    28|    1|           1|\n",
      "|  null|Cancelled|     Mahi|     F|           17|Robinson|  null| free|Houston-The Woodl...|   GET|Cancellation Conf...|1537898335000|      191|null|   200|1542038645000|Mozilla/5.0 (Maci...|100022|    1|           1|\n",
      "|  null|Cancelled|   London|     F|           49|    Diaz|  null| free|New York-Newark-J...|   GET|Cancellation Conf...|1532625569000|      129|null|   200|1540299152000|\"Mozilla/5.0 (Mac...|100025|    1|           1|\n",
      "|  null|Cancelled|    Lucas|     M|          142|Franklin|  null| paid|Phoenix-Mesa-Scot...|   GET|Cancellation Conf...|1537707098000|       44|null|   200|1538705338000|\"Mozilla/5.0 (X11...|300007|    1|           1|\n",
      "|  null|Cancelled|    Leyla|     F|           45|  Barnes|  null| free|           Flint, MI|   GET|Cancellation Conf...|1537964483000|        6|null|   200|1538753070000|\"Mozilla/5.0 (Win...|100006|    1|           1|\n",
      "|  null|Cancelled|   Adriel|     M|          104| Mendoza|  null| paid|  Kansas City, MO-KS|   GET|Cancellation Conf...|1535623466000|      514|null|   200|1538943990000|\"Mozilla/5.0 (Mac...|    18|    1|           1|\n",
      "|  null|Cancelled|   Chayse|     M|           91|  Keller|  null| paid|         Jackson, MS|   GET|Cancellation Conf...|1529643103000|     1940|null|   200|1542234867000|\"Mozilla/5.0 (Win...|    70|    1|           1|\n",
      "|  null|Cancelled|    Cason|     M|           73|   Smith|  null| free|          Monroe, LA|   GET|Cancellation Conf...|1532610926000|      115|null|   200|1539971825000|\"Mozilla/5.0 (Mac...|100005|    1|           1|\n",
      "|  null|Cancelled|    Kayla|     F|          273| Johnson|  null| paid|Philadelphia-Camd...|   GET|Cancellation Conf...|1538333829000|      797|null|   200|1539465584000|Mozilla/5.0 (Wind...|    17|    1|           1|\n",
      "|  null|Cancelled|    Piper|     F|          201|    Cook|  null| paid|Little Rock-North...|   GET|Cancellation Conf...|1533522419000|      205|null|   200|1543491909000|\"Mozilla/5.0 (Win...|100007|    1|           1|\n",
      "+------+---------+---------+------+-------------+--------+------+-----+--------------------+------+--------------------+-------------+---------+----+------+-------------+--------------------+------+-----+------------+\n",
      "only showing top 20 rows\n",
      "\n"
     ]
    }
   ],
   "source": [
    "df.filter(F.col(\"Churn\") == 1).sort(\"count_Cancel\", ascending=False).show()"
   ]
  },
  {
   "cell_type": "markdown",
   "metadata": {},
   "source": [
    "# Feature Engineering\n",
    "Once you've familiarized yourself with the data, build out the features you find promising to train your model on. To work with the full dataset, you can follow the following steps.\n",
    "- Write a script to extract the necessary features from the smaller subset of data\n",
    "- Ensure that your script is scalable, using the best practices discussed in Lesson 3\n",
    "- Try your script on the full data set, debugging your script if necessary\n",
    "\n",
    "If you are working in the classroom workspace, you can just extract features based on the small subset of data contained here. Be sure to transfer over this work to the larger dataset when you work on your Spark cluster."
   ]
  },
  {
   "cell_type": "code",
   "execution_count": 89,
   "metadata": {},
   "outputs": [
    {
     "name": "stdout",
     "output_type": "stream",
     "text": [
      "root\n",
      " |-- artist: string (nullable = true)\n",
      " |-- auth: string (nullable = true)\n",
      " |-- firstName: string (nullable = true)\n",
      " |-- gender: string (nullable = true)\n",
      " |-- itemInSession: long (nullable = true)\n",
      " |-- lastName: string (nullable = true)\n",
      " |-- length: double (nullable = true)\n",
      " |-- level: string (nullable = true)\n",
      " |-- location: string (nullable = true)\n",
      " |-- method: string (nullable = true)\n",
      " |-- page: string (nullable = true)\n",
      " |-- registration: long (nullable = true)\n",
      " |-- sessionId: long (nullable = true)\n",
      " |-- song: string (nullable = true)\n",
      " |-- status: long (nullable = true)\n",
      " |-- ts: long (nullable = true)\n",
      " |-- userAgent: string (nullable = true)\n",
      " |-- userId: string (nullable = true)\n",
      " |-- Churn: integer (nullable = false)\n",
      " |-- count_Cancel: long (nullable = true)\n",
      "\n"
     ]
    }
   ],
   "source": [
    "df.printSchema()"
   ]
  },
  {
   "cell_type": "code",
   "execution_count": 90,
   "metadata": {},
   "outputs": [],
   "source": [
    "df_feature = df.select('userId', 'level', 'gender', 'Churn', 'ts', 'length', 'artist', 'song', 'page')"
   ]
  },
  {
   "cell_type": "code",
   "execution_count": 91,
   "metadata": {},
   "outputs": [
    {
     "name": "stdout",
     "output_type": "stream",
     "text": [
      "+------+------------------+------------+----------+-------------+--------------+----------------+----------------+------------------+\n",
      "|userId|   avg_song_length|total_artist|total_song|total_session|total_thumb_up|total_thumb_down|total_add_friend|total_add_playlist|\n",
      "+------+------------------+------------+----------+-------------+--------------+----------------+----------------+------------------+\n",
      "|100010|  243.421444909091|         252|       269|          381|            17|               5|               4|                 7|\n",
      "|200002|242.91699209302305|         339|       378|          474|            21|               6|               4|                 8|\n",
      "|   125|261.13913750000006|           8|         8|           11|             0|               0|               0|                 0|\n",
      "|    51|247.88055082899118|        1385|      1854|         2464|           100|              21|              28|                52|\n",
      "|   124|248.17653659965674|        2232|      3339|         4825|           171|              41|              74|               118|\n",
      "+------+------------------+------------+----------+-------------+--------------+----------------+----------------+------------------+\n",
      "only showing top 5 rows\n",
      "\n"
     ]
    }
   ],
   "source": [
    "df_by_user = df_feature.groupBy('userId').agg(\n",
    "    F.avg('length').alias('avg_song_length'),\n",
    "    F.countDistinct('artist').alias('total_artist'),\n",
    "    F.countDistinct('song').alias('total_song'),\n",
    "    F.count('page').alias('total_session'),\n",
    "    F.count(F.when(F.col('page') == 'Thumbs Up', True)).alias('total_thumb_up'),\n",
    "    F.count(F.when(F.col('page') == 'Thumbs Down', True)).alias('total_thumb_down'),\n",
    "    F.count(F.when(F.col('page') == 'Add Friend', True)).alias('total_add_friend'),\n",
    "    F.count(F.when(F.col('page') == 'Add to Playlist', True)).alias('total_add_playlist')\n",
    ")\n",
    "df_by_user.show(5)"
   ]
  },
  {
   "cell_type": "code",
   "execution_count": 92,
   "metadata": {},
   "outputs": [
    {
     "name": "stdout",
     "output_type": "stream",
     "text": [
      "+------+-----+------+-----+-------------+------+------+----+--------------------+-------------+\n",
      "|userId|level|gender|Churn|           ts|length|artist|song|                page|       max_ts|\n",
      "+------+-----+------+-----+-------------+------+------+----+--------------------+-------------+\n",
      "|100010| free|     F|    0|1542823952000|  null|  null|null|              Logout|1542823952000|\n",
      "|200002| paid|     M|    0|1542324354000|  null|  null|null|           Thumbs Up|1542324354000|\n",
      "|   125| free|     M|    0|1539318918000|  null|  null|null|              Cancel|1539318918000|\n",
      "|   125| free|     M|    1|1539318918000|  null|  null|null|Cancellation Conf...|1539318918000|\n",
      "|   124| paid|     F|    0|1543590766000|  null|  null|null|                Home|1543590766000|\n",
      "+------+-----+------+-----+-------------+------+------+----+--------------------+-------------+\n",
      "only showing top 5 rows\n",
      "\n"
     ]
    }
   ],
   "source": [
    "window = Window.partitionBy(\"userId\").orderBy(\"ts\").rowsBetween(Window.unboundedPreceding, Window.unboundedFollowing)\n",
    "df_user = df_feature.withColumn(\"max_ts\", F.max(\"ts\").over(window))\n",
    "df_user = df_user.filter(F.col('ts') == F.col('max_ts'))\n",
    "df_user.show(5)"
   ]
  },
  {
   "cell_type": "code",
   "execution_count": 93,
   "metadata": {},
   "outputs": [
    {
     "name": "stdout",
     "output_type": "stream",
     "text": [
      "+------+-----+------+-----+-------------+------+------+----+--------------------+-------------+----------+\n",
      "|userId|level|gender|Churn|           ts|length|artist|song|                page|       max_ts|Totalchurn|\n",
      "+------+-----+------+-----+-------------+------+------+----+--------------------+-------------+----------+\n",
      "|100010| free|     F|    0|1542823952000|  null|  null|null|              Logout|1542823952000|         0|\n",
      "|200002| paid|     M|    0|1542324354000|  null|  null|null|           Thumbs Up|1542324354000|         0|\n",
      "|   125| free|     M|    1|1539318918000|  null|  null|null|Cancellation Conf...|1539318918000|         1|\n",
      "|   124| paid|     F|    0|1543590766000|  null|  null|null|                Home|1543590766000|         0|\n",
      "|    51| paid|     M|    1|1539761972000|  null|  null|null|Cancellation Conf...|1539761972000|         1|\n",
      "+------+-----+------+-----+-------------+------+------+----+--------------------+-------------+----------+\n",
      "only showing top 5 rows\n",
      "\n"
     ]
    }
   ],
   "source": [
    "df_user = df_user.withColumn('Totalchurn', F.sum('Churn').over(Window.partitionBy(\"userId\")))\n",
    "df_user = df_user.filter(~((F.col('Churn') == 0) & (F.col('Totalchurn') > 0)))\n",
    "\n",
    "df_user.show(5)"
   ]
  },
  {
   "cell_type": "code",
   "execution_count": 94,
   "metadata": {},
   "outputs": [
    {
     "name": "stdout",
     "output_type": "stream",
     "text": [
      "+------------------+------------+----------+-------------+--------------+----------------+----------------+------------------+-----+------+-----+\n",
      "|   avg_song_length|total_artist|total_song|total_session|total_thumb_up|total_thumb_down|total_add_friend|total_add_playlist|level|gender|Churn|\n",
      "+------------------+------------+----------+-------------+--------------+----------------+----------------+------------------+-----+------+-----+\n",
      "|  243.421444909091|         252|       269|          381|            17|               5|               4|                 7| free|     F|    0|\n",
      "|242.91699209302305|         339|       378|          474|            21|               6|               4|                 8| paid|     M|    0|\n",
      "|261.13913750000006|           8|         8|           11|             0|               0|               0|                 0| free|     M|    1|\n",
      "|248.17653659965674|        2232|      3339|         4825|           171|              41|              74|               118| paid|     F|    0|\n",
      "|247.88055082899118|        1385|      1854|         2464|           100|              21|              28|                52| paid|     M|    1|\n",
      "+------------------+------------+----------+-------------+--------------+----------------+----------------+------------------+-----+------+-----+\n",
      "only showing top 5 rows\n",
      "\n"
     ]
    }
   ],
   "source": [
    "df_user = df_user.select('userId', 'level', 'gender', 'Churn').distinct()\n",
    "df_merge = df_by_user.join(df_user, 'userId', 'left').drop('userId')\n",
    "df_merge.show(5)"
   ]
  },
  {
   "cell_type": "code",
   "execution_count": 95,
   "metadata": {},
   "outputs": [],
   "source": [
    "df_merge = df_merge.dropna()"
   ]
  },
  {
   "cell_type": "code",
   "execution_count": 96,
   "metadata": {},
   "outputs": [
    {
     "name": "stdout",
     "output_type": "stream",
     "text": [
      "+------------------+------------+----------+-------------+--------------+----------------+----------------+------------------+-----+------+-----+\n",
      "|   avg_song_length|total_artist|total_song|total_session|total_thumb_up|total_thumb_down|total_add_friend|total_add_playlist|level|gender|Churn|\n",
      "+------------------+------------+----------+-------------+--------------+----------------+----------------+------------------+-----+------+-----+\n",
      "|  243.421444909091|         252|       269|          381|            17|               5|               4|                 7|    0|     0|    0|\n",
      "|242.91699209302305|         339|       378|          474|            21|               6|               4|                 8|    1|     1|    0|\n",
      "|261.13913750000006|           8|         8|           11|             0|               0|               0|                 0|    0|     1|    1|\n",
      "|248.17653659965674|        2232|      3339|         4825|           171|              41|              74|               118|    1|     0|    0|\n",
      "|247.88055082899118|        1385|      1854|         2464|           100|              21|              28|                52|    1|     1|    1|\n",
      "+------------------+------------+----------+-------------+--------------+----------------+----------------+------------------+-----+------+-----+\n",
      "only showing top 5 rows\n",
      "\n"
     ]
    }
   ],
   "source": [
    "df_final = df_merge.withColumn(\"level\", F.when(F.col(\"level\") == \"paid\", 1).otherwise(0)) \\\n",
    "    .withColumn(\"gender\", F.when(F.col(\"gender\") == \"M\", 1).otherwise(0))\n",
    "\n",
    "df_final.show(5)"
   ]
  },
  {
   "cell_type": "code",
   "execution_count": 97,
   "metadata": {},
   "outputs": [
    {
     "name": "stderr",
     "output_type": "stream",
     "text": [
      "/opt/conda/lib/python3.6/site-packages/IPython/core/interactiveshell.py:2961: UserWarning: To output multiple subplots, the figure containing the passed axes is being cleared\n",
      "  exec(code_obj, self.user_global_ns, self.user_ns)\n"
     ]
    },
    {
     "data": {
      "image/png": "[encoded data removed]",
      "text/plain": [
       "<matplotlib.figure.Figure at 0x7f313d9640f0>"
      ]
     },
     "metadata": {
      "needs_background": "light"
     },
     "output_type": "display_data"
    }
   ],
   "source": [
    "df_pd_final = df_final.toPandas()\n",
    "\n",
    "fig = plt.figure(figsize=(30, 25))\n",
    "ax = fig.gca()\n",
    "h = df_pd_final.hist(ax=ax)"
   ]
  },
  {
   "cell_type": "markdown",
   "metadata": {},
   "source": [
    "# Modeling\n",
    "Split the full dataset into train, test, and validation sets. Test out several of the machine learning methods you learned. Evaluate the accuracy of the various models, tuning parameters as necessary. Determine your winning model based on test accuracy and report results on the validation set. Since the churned users are a fairly small subset, I suggest using F1 score as the metric to optimize."
   ]
  },
  {
   "cell_type": "code",
   "execution_count": 98,
   "metadata": {},
   "outputs": [],
   "source": [
    "feature_columns = df_final.columns[:-2]"
   ]
  },
  {
   "cell_type": "code",
   "execution_count": 99,
   "metadata": {},
   "outputs": [],
   "source": [
    "train, test = df_final.randomSplit([0.8, 0.2], seed=12)"
   ]
  },
  {
   "cell_type": "code",
   "execution_count": 100,
   "metadata": {},
   "outputs": [
    {
     "name": "stdout",
     "output_type": "stream",
     "text": [
      "root\n",
      " |-- avg_song_length: double (nullable = true)\n",
      " |-- total_artist: long (nullable = false)\n",
      " |-- total_song: long (nullable = false)\n",
      " |-- total_session: long (nullable = false)\n",
      " |-- total_thumb_up: long (nullable = false)\n",
      " |-- total_thumb_down: long (nullable = false)\n",
      " |-- total_add_friend: long (nullable = false)\n",
      " |-- total_add_playlist: long (nullable = false)\n",
      " |-- level: integer (nullable = false)\n",
      " |-- gender: integer (nullable = false)\n",
      " |-- Churn: integer (nullable = true)\n",
      "\n"
     ]
    }
   ],
   "source": [
    "train.printSchema()"
   ]
  },
  {
   "cell_type": "code",
   "execution_count": 101,
   "metadata": {},
   "outputs": [],
   "source": [
    "def build_model(classifier, param):\n",
    "    assembler = VectorAssembler(inputCols=feature_columns, outputCol=\"features\")\n",
    "    scaler = MinMaxScaler(inputCol=\"features\", outputCol=\"scaled_features\")\n",
    "    pipeline = Pipeline(stages=[assembler, scaler, classifier])\n",
    "    model = CrossValidator(\n",
    "        estimator=pipeline,\n",
    "        estimatorParamMaps=param,\n",
    "        evaluator=MulticlassClassificationEvaluator(labelCol='Churn', metricName='f1'),\n",
    "        numFolds=5,\n",
    "    )\n",
    "    return model"
   ]
  },
  {
   "cell_type": "code",
   "execution_count": 102,
   "metadata": {},
   "outputs": [],
   "source": [
    "def evaluate_model(pred):\n",
    "    evaluator = MulticlassClassificationEvaluator(predictionCol=\"prediction\", labelCol=\"Churn\")\n",
    "    f1_score = evaluator.evaluate(pred, {evaluator.metricName: \"f1\"})\n",
    "    print('F1 score: {}'.format(f1_score))"
   ]
  },
  {
   "cell_type": "markdown",
   "metadata": {},
   "source": [
    "#### Logistic Regression"
   ]
  },
  {
   "cell_type": "code",
   "execution_count": 103,
   "metadata": {},
   "outputs": [],
   "source": [
    "logisticRegression = LogisticRegression(featuresCol=\"scaled_features\", labelCol=\"Churn\")\n",
    "parameter = ParamGridBuilder().build()\n",
    "model = build_model(logisticRegression, parameter)"
   ]
  },
  {
   "cell_type": "code",
   "execution_count": 104,
   "metadata": {},
   "outputs": [
    {
     "name": "stdout",
     "output_type": "stream",
     "text": [
      "Train time: 1168.3360209465027\n"
     ]
    }
   ],
   "source": [
    "start_time = time.time()\n",
    "fit_model = model.fit(train)\n",
    "end_time = time.time()\n",
    "print(\"Train time:\", end_time - start_time)"
   ]
  },
  {
   "cell_type": "code",
   "execution_count": 105,
   "metadata": {},
   "outputs": [],
   "source": [
    "prediction = fit_model.transform(test)"
   ]
  },
  {
   "cell_type": "code",
   "execution_count": 106,
   "metadata": {},
   "outputs": [
    {
     "name": "stdout",
     "output_type": "stream",
     "text": [
      "F1 score: 0.738901098901099\n"
     ]
    }
   ],
   "source": [
    "evaluate_model(prediction)"
   ]
  },
  {
   "cell_type": "markdown",
   "metadata": {},
   "source": [
    "#### RandomForest"
   ]
  },
  {
   "cell_type": "code",
   "execution_count": 107,
   "metadata": {},
   "outputs": [],
   "source": [
    "RandomForest = RandomForestClassifier(featuresCol=\"scaled_features\", labelCol=\"Churn\")\n",
    "parameter1 = ParamGridBuilder().build()\n",
    "model1 = build_model(RandomForest, parameter1)"
   ]
  },
  {
   "cell_type": "code",
   "execution_count": 108,
   "metadata": {},
   "outputs": [
    {
     "name": "stdout",
     "output_type": "stream",
     "text": [
      "Train time: 425.14515590667725\n"
     ]
    }
   ],
   "source": [
    "start_time = time.time()\n",
    "fit_model1 = model1.fit(train)\n",
    "print(\"Train time:\", time.time() - start_time)"
   ]
  },
  {
   "cell_type": "code",
   "execution_count": 109,
   "metadata": {},
   "outputs": [],
   "source": [
    "pred1 = fit_model1.transform(test)"
   ]
  },
  {
   "cell_type": "code",
   "execution_count": 110,
   "metadata": {},
   "outputs": [
    {
     "name": "stdout",
     "output_type": "stream",
     "text": [
      "F1 score: 0.756818181818182\n"
     ]
    }
   ],
   "source": [
    "evaluate_model(pred1)"
   ]
  },
  {
   "cell_type": "markdown",
   "metadata": {},
   "source": [
    "#### GBT Classifier"
   ]
  },
  {
   "cell_type": "code",
   "execution_count": 111,
   "metadata": {},
   "outputs": [],
   "source": [
    "gbt = GBTClassifier(featuresCol=\"scaled_features\", labelCol=\"Churn\")\n",
    "parameter2 = ParamGridBuilder().build()\n",
    "model2 = build_model(gbt, parameter2)"
   ]
  },
  {
   "cell_type": "code",
   "execution_count": 112,
   "metadata": {},
   "outputs": [
    {
     "name": "stdout",
     "output_type": "stream",
     "text": [
      "Train time: 1572.5390331745148\n"
     ]
    }
   ],
   "source": [
    "start_time = time.time()\n",
    "fit_model2 = model2.fit(train)\n",
    "end_time = time.time()\n",
    "print(\"Train time:\", end_time - start_time)"
   ]
  },
  {
   "cell_type": "code",
   "execution_count": 113,
   "metadata": {},
   "outputs": [],
   "source": [
    "pred2 = fit_model2.transform(test)"
   ]
  },
  {
   "cell_type": "code",
   "execution_count": 114,
   "metadata": {},
   "outputs": [
    {
     "name": "stdout",
     "output_type": "stream",
     "text": [
      "F1 score: 0.756818181818182\n"
     ]
    }
   ],
   "source": [
    "evaluate_model(pred2)"
   ]
  },
  {
   "cell_type": "markdown",
   "metadata": {},
   "source": [
    "# Final Steps\n",
    "Clean up your code, adding comments and renaming variables to make the code easier to read and maintain. Refer to the Spark Project Overview page and Data Scientist Capstone Project Rubric to make sure you are including all components of the capstone project and meet all expectations. Remember, this includes thorough documentation in a README file in a Github repository, as well as a web app or blog post."
   ]
  },
  {
   "cell_type": "markdown",
   "metadata": {},
   "source": [
    "https://medium.com/@quanvu.hcmvb220204114/data-science-final-project-c10070fab9e3"
   ]
  },
  {
   "cell_type": "code",
   "execution_count": null,
   "metadata": {},
   "outputs": [],
   "source": []
  }
 ],
 "metadata": {
  "kernelspec": {
   "display_name": "Python 3.8.13 ('code.py')",
   "language": "python",
   "name": "python3"
  },
  "language_info": {
   "codemirror_mode": {
    "name": "ipython",
    "version": 3
   },
   "file_extension": ".py",
   "mimetype": "text/x-python",
   "name": "python",
   "nbconvert_exporter": "python",
   "pygments_lexer": "ipython3",
   "version": "3.8.13"
  },
  "vscode": {
   "interpreter": {
    "hash": "7f6a85ccf73e8ac9aa6df17a957cff344c87066336c374b0e574632762175666"
   }
  }
 },
 "nbformat": 4,
 "nbformat_minor": 2
}
